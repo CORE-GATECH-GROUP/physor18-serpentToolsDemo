{
 "cells": [
  {
   "cell_type": "markdown",
   "metadata": {},
   "source": [
    "# Reading multiple files\n",
    "Currently support reading multiple depletion and detector files to obtain true expected quantities and uncertaintines. These are done with the [`sampler`](http://serpent-tools.readthedocs.io/en/latest/api/sampler.html) module.\n",
    "The directories `models/sampled-bwr/dep` and `models/sampled-bwr/det` contain depletion and detector outputs from 100 repeated runs, e.g. only differ by random seed. Only five of such files are tracked in this repository as to not overburden the user, but the approach still applies\n",
    "\n",
    "The readers follow the same data structure and retrieval as their serial counterparts."
   ]
  },
  {
   "cell_type": "code",
   "execution_count": 1,
   "metadata": {},
   "outputs": [],
   "source": [
    "%matplotlib inline\n",
    "detGlob = '../models/sampled-bwr/det/bwr_*_det0.m'\n",
    "depGlob = '../models/sampled-bwr/dep/bwr_*_dep.m'"
   ]
  },
  {
   "cell_type": "markdown",
   "metadata": {},
   "source": [
    "## Detector"
   ]
  },
  {
   "cell_type": "code",
   "execution_count": 2,
   "metadata": {},
   "outputs": [],
   "source": [
    "from serpentTools.samplers.detector import DetectorSampler"
   ]
  },
  {
   "cell_type": "code",
   "execution_count": 3,
   "metadata": {},
   "outputs": [
    {
     "name": "stdout",
     "output_type": "stream",
     "text": [
      "CPU times: user 3 µs, sys: 1 µs, total: 4 µs\n",
      "Wall time: 6.68 µs\n"
     ]
    }
   ],
   "source": [
    "%time\n",
    "det = DetectorSampler(detGlob)"
   ]
  },
  {
   "cell_type": "code",
   "execution_count": 4,
   "metadata": {},
   "outputs": [
    {
     "data": {
      "text/plain": [
       "(100, 100)"
      ]
     },
     "execution_count": 4,
     "metadata": {},
     "output_type": "execute_result"
    }
   ],
   "source": [
    "len(det.files), len(det.parsers)"
   ]
  },
  {
   "cell_type": "code",
   "execution_count": 5,
   "metadata": {},
   "outputs": [
    {
     "data": {
      "text/plain": [
       "{'spectrum': <serpentTools.samplers.detector.SampledDetector at 0x7f88388f3b38>}"
      ]
     },
     "execution_count": 5,
     "metadata": {},
     "output_type": "execute_result"
    }
   ],
   "source": [
    "det.detectors"
   ]
  },
  {
   "cell_type": "markdown",
   "metadata": {},
   "source": [
    "New [`SampledDetector`](http://serpent-tools.readthedocs.io/en/latest/api/sampler.html#serpentTools.samplers.detector.SampledDetector) objects behave exactly like their standalone counterparts. The relative error attribute is replaced with the aggregation of the errors from all files read."
   ]
  },
  {
   "cell_type": "code",
   "execution_count": 6,
   "metadata": {},
   "outputs": [],
   "source": [
    "s = det.detectors['spectrum']"
   ]
  },
  {
   "cell_type": "code",
   "execution_count": 7,
   "metadata": {
    "scrolled": true
   },
   "outputs": [
    {
     "data": {
      "text/plain": [
       "array([4.90556600e-05, 1.20874733e-03, 1.21312464e-03, 3.61042520e-03,\n",
       "       2.86406860e-03, 3.74714340e-03, 6.36568610e-03, 6.09158910e-03,\n",
       "       7.69617980e-03, 2.68632020e-02, 2.27470030e-02, 7.25810390e-02,\n",
       "       8.86931130e-02, 6.96722780e-01, 2.39976360e-01, 5.16551710e-01,\n",
       "       5.07397990e-01, 4.87760290e-01, 4.60922870e-01, 4.31440990e-01,\n",
       "       3.98877820e-01, 3.65974230e-01, 7.75709650e-01, 6.07434370e-01,\n",
       "       4.63728910e-01, 3.63129940e-01, 2.78595290e-01, 2.19779910e-01,\n",
       "       1.78470170e-01, 1.45680180e-01, 1.19150270e-01, 1.02497258e-01,\n",
       "       9.08375390e-02, 8.14357980e-02, 1.39519240e-01, 1.18152750e-01,\n",
       "       1.01674162e-01, 9.05240530e-02, 4.21298450e-02, 3.98024740e-02,\n",
       "       7.41321130e-02, 6.81187060e-02, 6.28304510e-02, 5.89792840e-02,\n",
       "       5.49784900e-02, 2.64519260e-02, 2.55670490e-02, 2.45027080e-02,\n",
       "       2.39173790e-02, 9.30118580e-03, 9.07457830e-03, 9.16113510e-03,\n",
       "       9.07904240e-03, 9.00869980e-03, 8.84058960e-03, 8.71364110e-03,\n",
       "       8.75109570e-03, 8.46120680e-03, 8.56356440e-03, 8.47894700e-03,\n",
       "       8.25730460e-03, 8.26406770e-03, 8.04974680e-03, 8.11470960e-03,\n",
       "       1.97997480e-02, 1.91351830e-02, 1.92463860e-02, 1.87691860e-02,\n",
       "       3.67216620e-02, 3.53130780e-02, 3.36771200e-02, 3.21783230e-02,\n",
       "       3.10007120e-02, 5.36364280e-02, 5.03657300e-02, 4.72563850e-02,\n",
       "       4.47197190e-02, 3.74256660e-02, 2.72570210e-02, 5.19128440e-02,\n",
       "       3.69376800e-02, 3.53907860e-02, 3.03840530e-02, 3.28250430e-02,\n",
       "       3.48034370e-02, 3.33485140e-02, 3.22350970e-02, 3.11570990e-02,\n",
       "       3.04925540e-02, 8.97238460e-03, 1.43750010e-02, 2.88194870e-02,\n",
       "       9.38528880e-02, 5.62710360e-02, 6.11799880e-02, 1.49939630e-01,\n",
       "       4.33381320e-02, 6.51299490e-02, 8.72113260e-02, 3.26772240e-02,\n",
       "       3.13195890e-02, 3.05304120e-02, 3.16186360e-02, 1.94120910e-02,\n",
       "       1.16291660e-01, 1.06406855e-01, 8.80320140e-02, 1.31268040e-01,\n",
       "       3.15987080e-02, 7.57713620e-02, 6.08025200e-02, 4.34707730e-02,\n",
       "       4.47080490e-02, 5.39307700e-02, 5.58686300e-02, 7.77096300e-02,\n",
       "       2.37405580e-02, 4.55754400e-02, 4.67433720e-02, 7.18872710e-02,\n",
       "       1.06174396e-01, 9.54957080e-02, 8.55313380e-02, 3.91745270e-02,\n",
       "       1.52329140e-02, 4.39358810e-02, 1.41062640e-02, 2.35104210e-02,\n",
       "       2.40911870e-02, 5.11481500e-02, 3.34327340e-02, 3.30135950e-02,\n",
       "       1.41108870e-02, 3.83200110e-02, 3.63439970e-02, 3.98609720e-02,\n",
       "       2.89081930e-02, 4.14813910e-02, 2.88799050e-02, 1.95792150e-02,\n",
       "       2.94869180e-02, 2.84914670e-02, 2.81337600e-02, 1.04840711e-01,\n",
       "       3.49959950e-02, 6.52521410e-02, 4.57696710e-02, 7.12395670e-02,\n",
       "       5.89531380e-02, 5.48079640e-02, 2.66736240e-02, 1.00738953e-01,\n",
       "       1.10689650e-01, 9.68194480e-02, 7.07579590e-02, 4.16870570e-02,\n",
       "       2.90889360e-02, 4.70240930e-01, 4.93797870e-02, 9.04250980e-02,\n",
       "       1.51593230e-02, 1.57532000e-01, 2.03688370e-01, 8.44599340e-02,\n",
       "       7.00507240e-01, 2.40211780e-01, 2.38037270e-02, 4.00433970e-01,\n",
       "       2.38608420e-01, 3.32370040e-01, 4.24706700e-02, 1.89045260e-01,\n",
       "       2.53985610e-01, 5.17792080e-02, 1.57579800e-01, 2.08525910e-01,\n",
       "       2.85525120e-01, 5.90800910e-02, 5.64961430e-01, 3.95924510e-01,\n",
       "       2.22053450e-01, 4.15024230e-01, 3.67844740e-01, 5.42652420e-01,\n",
       "       2.54269950e-01, 5.89394360e-01, 1.53700690e-01, 5.69133870e-02,\n",
       "       2.12786400e-01, 3.00596270e-01, 4.10736100e-02, 1.38738560e-01,\n",
       "       5.62567310e-02, 2.58429580e-01, 4.04703060e-01, 2.65189180e-01,\n",
       "       5.10955980e-01, 5.71727500e-01, 4.16016290e-01, 3.97264280e-01,\n",
       "       1.13476845e-01, 1.15067870e-01, 1.61848050e-01, 1.42198920e-01,\n",
       "       2.20397420e-01, 9.09753370e-02, 1.02779884e-01, 2.50352960e-01,\n",
       "       3.07876010e-02, 2.31086340e-01, 2.21422600e-01, 1.11888220e-01,\n",
       "       3.37950430e-02, 5.68745050e-02, 4.32977030e-02, 1.86755870e-01,\n",
       "       1.59867870e-01, 1.62401930e-01, 7.84642410e-02, 9.93459210e-02,\n",
       "       5.34053080e-02, 5.59272410e-02, 1.16360070e-01, 3.15874050e-01,\n",
       "       3.12332020e-01, 6.39143510e-02, 2.20681920e-01, 3.10579580e-01,\n",
       "       5.62267000e-02, 9.00857970e-02, 2.62248940e-02, 6.82773050e-03,\n",
       "       2.06115668e-03, 1.51069183e-04, 4.37826580e-05, 6.41623970e-05,\n",
       "       2.22908800e-05, 7.88860500e-06])"
      ]
     },
     "execution_count": 7,
     "metadata": {},
     "output_type": "execute_result"
    }
   ],
   "source": [
    "s.tallies"
   ]
  },
  {
   "cell_type": "markdown",
   "metadata": {},
   "source": [
    "Information from all standalone detectors used to create this one are retained through the `allTallies` and `allErrors` attributes. These are identical to the `tallies` and `errors` arrays with an additional dimension for the parser index."
   ]
  },
  {
   "cell_type": "code",
   "execution_count": 8,
   "metadata": {},
   "outputs": [
    {
     "data": {
      "text/plain": [
       "(100, 238)"
      ]
     },
     "execution_count": 8,
     "metadata": {},
     "output_type": "execute_result"
    }
   ],
   "source": [
    "s.allTallies.shape"
   ]
  },
  {
   "cell_type": "code",
   "execution_count": 9,
   "metadata": {
    "scrolled": true
   },
   "outputs": [
    {
     "data": {
      "text/plain": [
       "OrderedDict([('energy',\n",
       "              array([  0,   1,   2,   3,   4,   5,   6,   7,   8,   9,  10,  11,  12,\n",
       "                      13,  14,  15,  16,  17,  18,  19,  20,  21,  22,  23,  24,  25,\n",
       "                      26,  27,  28,  29,  30,  31,  32,  33,  34,  35,  36,  37,  38,\n",
       "                      39,  40,  41,  42,  43,  44,  45,  46,  47,  48,  49,  50,  51,\n",
       "                      52,  53,  54,  55,  56,  57,  58,  59,  60,  61,  62,  63,  64,\n",
       "                      65,  66,  67,  68,  69,  70,  71,  72,  73,  74,  75,  76,  77,\n",
       "                      78,  79,  80,  81,  82,  83,  84,  85,  86,  87,  88,  89,  90,\n",
       "                      91,  92,  93,  94,  95,  96,  97,  98,  99, 100, 101, 102, 103,\n",
       "                     104, 105, 106, 107, 108, 109, 110, 111, 112, 113, 114, 115, 116,\n",
       "                     117, 118, 119, 120, 121, 122, 123, 124, 125, 126, 127, 128, 129,\n",
       "                     130, 131, 132, 133, 134, 135, 136, 137, 138, 139, 140, 141, 142,\n",
       "                     143, 144, 145, 146, 147, 148, 149, 150, 151, 152, 153, 154, 155,\n",
       "                     156, 157, 158, 159, 160, 161, 162, 163, 164, 165, 166, 167, 168,\n",
       "                     169, 170, 171, 172, 173, 174, 175, 176, 177, 178, 179, 180, 181,\n",
       "                     182, 183, 184, 185, 186, 187, 188, 189, 190, 191, 192, 193, 194,\n",
       "                     195, 196, 197, 198, 199, 200, 201, 202, 203, 204, 205, 206, 207,\n",
       "                     208, 209, 210, 211, 212, 213, 214, 215, 216, 217, 218, 219, 220,\n",
       "                     221, 222, 223, 224, 225, 226, 227, 228, 229, 230, 231, 232, 233,\n",
       "                     234, 235, 236, 237]))])"
      ]
     },
     "execution_count": 9,
     "metadata": {},
     "output_type": "execute_result"
    }
   ],
   "source": [
    "s.indexes"
   ]
  },
  {
   "cell_type": "code",
   "execution_count": 10,
   "metadata": {},
   "outputs": [
    {
     "data": {
      "image/png": "[encoded data removed]",
      "text/plain": [
       "<Figure size 432x288 with 1 Axes>"
      ]
     },
     "metadata": {},
     "output_type": "display_data"
    }
   ],
   "source": [
    "s.spectrumPlot();"
   ]
  },
  {
   "cell_type": "code",
   "execution_count": 11,
   "metadata": {
    "scrolled": true
   },
   "outputs": [
    {
     "data": {
      "image/png": "[encoded data removed]",
      "text/plain": [
       "<Figure size 432x288 with 1 Axes>"
      ]
     },
     "metadata": {},
     "output_type": "display_data"
    }
   ],
   "source": [
    "s.spreadPlot('energy', loglog=True);"
   ]
  },
  {
   "cell_type": "markdown",
   "metadata": {},
   "source": [
    "## Depletion"
   ]
  },
  {
   "cell_type": "code",
   "execution_count": 12,
   "metadata": {},
   "outputs": [],
   "source": [
    "from serpentTools.samplers.depletion import DepletionSampler"
   ]
  },
  {
   "cell_type": "code",
   "execution_count": 13,
   "metadata": {},
   "outputs": [
    {
     "name": "stdout",
     "output_type": "stream",
     "text": [
      "CPU times: user 2 µs, sys: 0 ns, total: 2 µs\n",
      "Wall time: 4.53 µs\n"
     ]
    }
   ],
   "source": [
    "%time\n",
    "dep = DepletionSampler(depGlob)"
   ]
  },
  {
   "cell_type": "code",
   "execution_count": 14,
   "metadata": {},
   "outputs": [
    {
     "data": {
      "text/plain": [
       "(100, 100)"
      ]
     },
     "execution_count": 14,
     "metadata": {},
     "output_type": "execute_result"
    }
   ],
   "source": [
    "len(dep.parsers), len(dep.files)"
   ]
  },
  {
   "cell_type": "code",
   "execution_count": 15,
   "metadata": {},
   "outputs": [
    {
     "data": {
      "text/plain": [
       "{'fue1': <serpentTools.samplers.depletion.SampledDepletedMaterial at 0x7f8811ba68d0>,\n",
       " 'fue2': <serpentTools.samplers.depletion.SampledDepletedMaterial at 0x7f8811c70668>,\n",
       " 'fue3': <serpentTools.samplers.depletion.SampledDepletedMaterial at 0x7f8811c6e0b8>,\n",
       " 'fue4': <serpentTools.samplers.depletion.SampledDepletedMaterial at 0x7f88122abf60>,\n",
       " 'fueG': <serpentTools.samplers.depletion.SampledDepletedMaterial at 0x7f88122ab9b0>,\n",
       " 'total': <serpentTools.samplers.depletion.SampledDepletedMaterial at 0x7f8811baa048>}"
      ]
     },
     "execution_count": 15,
     "metadata": {},
     "output_type": "execute_result"
    }
   ],
   "source": [
    "dep.materials"
   ]
  },
  {
   "cell_type": "code",
   "execution_count": 16,
   "metadata": {},
   "outputs": [
    {
     "data": {
      "text/plain": [
       "dict_keys(['names', 'zai', 'days', 'burnup'])"
      ]
     },
     "execution_count": 16,
     "metadata": {},
     "output_type": "execute_result"
    }
   ],
   "source": [
    "dep.metadata.keys()"
   ]
  },
  {
   "cell_type": "code",
   "execution_count": 17,
   "metadata": {},
   "outputs": [
    {
     "data": {
      "text/plain": [
       "['U235',\n",
       " 'Pu239',\n",
       " 'Pu240',\n",
       " 'Pu241',\n",
       " 'Am241',\n",
       " 'Am243',\n",
       " 'Gd155',\n",
       " 'Gd157',\n",
       " 'Xe135',\n",
       " 'Sm149',\n",
       " 'I131',\n",
       " 'Cs134',\n",
       " 'Cs137',\n",
       " 'lost',\n",
       " 'total']"
      ]
     },
     "execution_count": 17,
     "metadata": {},
     "output_type": "execute_result"
    }
   ],
   "source": [
    "dep.metadata['names']"
   ]
  },
  {
   "cell_type": "code",
   "execution_count": 18,
   "metadata": {
    "scrolled": true
   },
   "outputs": [
    {
     "data": {
      "text/plain": [
       "array([[1.43700000e-03, 1.13612620e-03, 6.97673550e-04, 1.16838680e-04],\n",
       "       [0.00000000e+00, 1.58973200e-08, 1.33327330e-07, 2.82684350e-07],\n",
       "       [0.00000000e+00, 9.43668130e-08, 1.72145370e-06, 1.23170630e-05],\n",
       "       [0.00000000e+00, 3.30524900e-08, 1.25109520e-06, 9.61663130e-06],\n",
       "       [0.00000000e+00, 7.34901450e-15, 6.55509930e-13, 6.33313610e-12],\n",
       "       [0.00000000e+00, 1.87641600e-13, 1.54275543e-10, 1.97187660e-08],\n",
       "       [0.00000000e+00, 6.10994820e-15, 5.74739890e-15, 2.50367960e-15],\n",
       "       [0.00000000e+00, 3.40950510e-12, 1.10792230e-11, 1.68069260e-11],\n",
       "       [0.00000000e+00, 1.00795562e-09, 1.15751660e-09, 6.06671450e-10],\n",
       "       [0.00000000e+00, 9.04995440e-12, 3.22262860e-11, 1.90446720e-11],\n",
       "       [0.00000000e+00, 2.04392540e-07, 2.03203310e-06, 9.11950340e-06],\n",
       "       [0.00000000e+00, 3.25383290e-11, 7.46433520e-11, 2.03426060e-10],\n",
       "       [0.00000000e+00, 1.02598440e-05, 3.39588680e-05, 7.12210300e-05],\n",
       "       [0.00000000e+00, 1.71521880e-11, 4.22074930e-11, 9.20378770e-11],\n",
       "       [6.76182000e-02, 6.78724340e-02, 6.82511620e-02, 6.88117360e-02]])"
      ]
     },
     "execution_count": 18,
     "metadata": {},
     "output_type": "execute_result"
    }
   ],
   "source": [
    "fuel = dep.materials['fue1']\n",
    "fuel.getValues('days', 'adens')"
   ]
  },
  {
   "cell_type": "code",
   "execution_count": 19,
   "metadata": {
    "scrolled": true
   },
   "outputs": [
    {
     "data": {
      "image/png": "[encoded data removed]",
      "text/plain": [
       "<Figure size 432x288 with 1 Axes>"
      ]
     },
     "metadata": {},
     "output_type": "display_data"
    }
   ],
   "source": [
    "ax = fuel.plot('burnup', 'adens', names='Xe135');"
   ]
  },
  {
   "cell_type": "code",
   "execution_count": 20,
   "metadata": {},
   "outputs": [
    {
     "data": {
      "text/plain": [
       "dict_keys(['volume', 'burnup', 'adens', 'mdens', 'a', 'h', 'sf', 'gsrc', 'ingTox', 'inhTox'])"
      ]
     },
     "execution_count": 20,
     "metadata": {},
     "output_type": "execute_result"
    }
   ],
   "source": [
    "fuel.uncertainties.keys()"
   ]
  },
  {
   "cell_type": "code",
   "execution_count": 21,
   "metadata": {
    "scrolled": true
   },
   "outputs": [
    {
     "data": {
      "text/plain": [
       "array([[3.03576608e-18, 2.26974394e-06, 3.44080552e-06, 2.18655835e-06],\n",
       "       [0.00000000e+00, 3.23706362e-10, 2.48496303e-09, 5.30127531e-09],\n",
       "       [0.00000000e+00, 3.47917314e-09, 7.87927424e-08, 7.68550500e-07],\n",
       "       [0.00000000e+00, 2.62768338e-09, 6.70927895e-08, 2.88147205e-07],\n",
       "       [0.00000000e+00, 5.98906501e-16, 3.57298744e-14, 2.21914129e-13],\n",
       "       [0.00000000e+00, 3.69273294e-14, 2.59925614e-11, 2.36500774e-09],\n",
       "       [0.00000000e+00, 1.71291127e-16, 1.86526023e-16, 8.21931890e-17],\n",
       "       [0.00000000e+00, 6.84787059e-14, 1.92939727e-13, 3.36373181e-13],\n",
       "       [0.00000000e+00, 1.36909946e-11, 1.44758623e-11, 8.35771945e-12],\n",
       "       [0.00000000e+00, 1.29927961e-13, 6.29993256e-13, 3.94630074e-13],\n",
       "       [0.00000000e+00, 1.56600956e-09, 1.01487090e-08, 2.33333065e-08],\n",
       "       [0.00000000e+00, 5.66716837e-13, 8.62746106e-13, 7.45550899e-12],\n",
       "       [0.00000000e+00, 7.75100604e-08, 1.57614462e-07, 1.60347848e-07],\n",
       "       [0.00000000e+00, 3.01581743e-13, 5.38260925e-13, 1.14670151e-12],\n",
       "       [5.55111512e-17, 1.85936656e-06, 2.92621872e-06, 2.57015642e-06]])"
      ]
     },
     "execution_count": 21,
     "metadata": {},
     "output_type": "execute_result"
    }
   ],
   "source": [
    "fuel.uncertainties['adens']"
   ]
  },
  {
   "cell_type": "markdown",
   "metadata": {},
   "source": [
    "[`SampledDepletedMaterial`](http://serpent-tools.readthedocs.io/en/latest/api/sampler.html#serpentTools.samplers.depletion.SampledDepletedMaterial)  can plot the mean value and show the spread of values from each unique reader. "
   ]
  },
  {
   "cell_type": "code",
   "execution_count": 22,
   "metadata": {},
   "outputs": [
    {
     "data": {
      "image/png": "[encoded data removed]",
      "text/plain": [
       "<Figure size 432x288 with 1 Axes>"
      ]
     },
     "metadata": {},
     "output_type": "display_data"
    }
   ],
   "source": [
    "ax = fuel.spreadPlot('burnup', 'adens',  'Xe135', logy=False)"
   ]
  },
  {
   "cell_type": "markdown",
   "metadata": {},
   "source": [
    "## Settings\n",
    "A few settings control how the samplers behave and can improve analysis by:\n",
    "\n",
    "1. Skipping a precheck that ensures all sampled parsers have the same data - [`sampler.skipPrecheck`](http://serpent-tools.readthedocs.io/en/latest/settingsTop.html#sampler-skipprecheck)\n",
    "1. Not retaining individual samplers after final processing - [`sampler.freeAll`](http://serpent-tools.readthedocs.io/en/latest/settingsTop.html#sampler-freeall)\n",
    "\n",
    "This does eliminate some functionality, such as `spreadPlots`, which require all parsers and sampled containers to be retained"
   ]
  },
  {
   "cell_type": "code",
   "execution_count": 23,
   "metadata": {},
   "outputs": [],
   "source": [
    "from serpentTools .settings import rc\n",
    "from serpentTools.messages import SamplerError\n",
    "rc.setValue('sampler.freeAll', True)"
   ]
  },
  {
   "cell_type": "code",
   "execution_count": 24,
   "metadata": {},
   "outputs": [],
   "source": [
    "detF = DetectorSampler(detGlob)"
   ]
  },
  {
   "cell_type": "code",
   "execution_count": 25,
   "metadata": {},
   "outputs": [
    {
     "data": {
      "text/plain": [
       "set()"
      ]
     },
     "execution_count": 25,
     "metadata": {},
     "output_type": "execute_result"
    }
   ],
   "source": [
    "detF.parsers"
   ]
  },
  {
   "cell_type": "code",
   "execution_count": 26,
   "metadata": {},
   "outputs": [
    {
     "name": "stdout",
     "output_type": "stream",
     "text": [
      "True\n"
     ]
    }
   ],
   "source": [
    "sF= detF.detectors['spectrum']\n",
    "print(sF.allTallies is None)"
   ]
  },
  {
   "cell_type": "code",
   "execution_count": 27,
   "metadata": {},
   "outputs": [
    {
     "name": "stdout",
     "output_type": "stream",
     "text": [
      "Data from all sampled files has been freed and cannot be used in this plot method\n"
     ]
    }
   ],
   "source": [
    "try:\n",
    "# catch and print the error raised with this method    \n",
    "    sF.spreadPlot()\n",
    "except SamplerError as se: \n",
    "    print(se)"
   ]
  }
 ],
 "metadata": {
  "kernelspec": {
   "display_name": "Python 3",
   "language": "python",
   "name": "python3"
  },
  "language_info": {
   "codemirror_mode": {
    "name": "ipython",
    "version": 3
   },
   "file_extension": ".py",
   "mimetype": "text/x-python",
   "name": "python",
   "nbconvert_exporter": "python",
   "pygments_lexer": "ipython3",
   "version": "3.6.5"
  }
 },
 "nbformat": 4,
 "nbformat_minor": 2
}
